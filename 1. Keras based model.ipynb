{
 "cells": [
  {
   "cell_type": "code",
   "execution_count": 3,
   "metadata": {
    "collapsed": false
   },
   "outputs": [
    {
     "name": "stderr",
     "output_type": "stream",
     "text": [
      "Using TensorFlow backend.\n"
     ]
    }
   ],
   "source": [
    "import numpy as np\n",
    "import os\n",
    "import math\n",
    "import datetime\n",
    "import pandas as pd\n",
    "import matplotlib.pyplot as plt\n",
    "import statistics\n",
    "import random\n",
    "\n",
    "from IPython.display import Image, HTML, display\n",
    "\n",
    "%matplotlib inline\n",
    "from IPython.display import SVG\n",
    "from sklearn.cross_validation import train_test_split\n",
    "from sklearn.cross_validation import KFold\n",
    "from keras.utils import np_utils\n",
    "from keras.models import model_from_json\n",
    "from keras.callbacks import EarlyStopping, ModelCheckpoint, BaseLogger, History, Callback\n",
    "\n",
    "from keras.utils.visualize_util import model_to_dot\n",
    "from sklearn.metrics import log_loss, accuracy_score\n",
    "\n",
    "import utils            # data load and cache\n",
    "import architectures    # models\n",
    "\n",
    "dict_classes = {'c0': 'safe driving',\n",
    "            'c1': 'texting - right',\n",
    "            'c2': 'talking on the phone - right',\n",
    "            'c3': 'texting - left',\n",
    "            'c4': 'talking on the phone - left',\n",
    "            'c5': 'operating the radio',\n",
    "            'c6': 'drinking',\n",
    "            'c7': 'reaching behind',\n",
    "            'c8': 'hair and makeup',\n",
    "            'c9': 'talking to passenger'}"
   ]
  },
  {
   "cell_type": "markdown",
   "metadata": {},
   "source": [
    "# Data Import"
   ]
  },
  {
   "cell_type": "code",
   "execution_count": 4,
   "metadata": {
    "collapsed": false
   },
   "outputs": [
    {
     "name": "stdout",
     "output_type": "stream",
     "text": [
      "Restore train from cache!\n",
      "Train shape: (22424, 3, 32, 32)\n",
      "22424 train samples\n",
      "Restore test from cache!\n",
      "Test shape: (79726, 3, 32, 32)\n",
      "79726 test samples\n"
     ]
    }
   ],
   "source": [
    "# 1 - gray, 3 - rgb\n",
    "color_type = 3 \n",
    "\n",
    "# input image dimensions\n",
    "img_rows, img_cols = (32, 32)\n",
    "\n",
    "train_data, train_target, train_id, driver_id, unique_drivers = utils.read_and_normalize_train_data(img_rows, img_cols, color_type)\n",
    "test_data, test_id = utils.read_and_normalize_test_data(img_rows, img_cols, color_type)"
   ]
  },
  {
   "cell_type": "markdown",
   "metadata": {},
   "source": [
    "# Cross validation"
   ]
  },
  {
   "cell_type": "code",
   "execution_count": 3,
   "metadata": {
    "collapsed": false
   },
   "outputs": [
    {
     "name": "stdout",
     "output_type": "stream",
     "text": [
      "Start KFold 1/5\n",
      "Train drivers:  ['p002', 'p014', 'p015', 'p016', 'p021', 'p022', 'p035', 'p041', 'p042', 'p045', 'p047', 'p049', 'p050', 'p051', 'p052', 'p056', 'p064', 'p066', 'p075', 'p081']\n",
      "Test drivers:  ['p012', 'p024', 'p026', 'p039', 'p061', 'p072']\n",
      "\n",
      "Train on 17373 samples, validate on 5051 samples\n",
      "Epoch 1/20\n",
      "17373/17373 [==============================] - 159s - loss: 1.7601 - val_loss: 1.7516\n",
      "Epoch 2/20\n",
      "17373/17373 [==============================] - 154s - loss: 1.0163 - val_loss: 1.5636\n",
      "Epoch 3/20\n",
      "17373/17373 [==============================] - 156s - loss: 0.7340 - val_loss: 1.3904\n",
      "Epoch 4/20\n",
      "17373/17373 [==============================] - 161s - loss: 0.5609 - val_loss: 1.3870\n",
      "Epoch 5/20\n",
      "17373/17373 [==============================] - 160s - loss: 0.4680 - val_loss: 1.5442\n",
      "Epoch 6/20\n",
      "17373/17373 [==============================] - 161s - loss: 0.3970 - val_loss: 1.3676\n",
      "Epoch 7/20\n",
      "17373/17373 [==============================] - 162s - loss: 0.3521 - val_loss: 1.2877\n",
      "Epoch 8/20\n",
      "17373/17373 [==============================] - 162s - loss: 0.3133 - val_loss: 1.2968\n",
      "Epoch 9/20\n",
      "17344/17373 [============================>.] - ETA: 0s - loss: 0.2901Epoch 00008: early stopping\n",
      "17373/17373 [==============================] - 163s - loss: 0.2901 - val_loss: 1.4251\n",
      "\n",
      "Prediction for the validation dataset\n",
      "5051/5051 [==============================] - 16s    \n",
      "\n",
      "Prediction for the test dataset\n",
      "79726/79726 [==============================] - 258s   \n",
      "\n",
      "Start KFold 2/5\n",
      "Train drivers:  ['p002', 'p012', 'p016', 'p021', 'p024', 'p026', 'p035', 'p039', 'p042', 'p045', 'p047', 'p049', 'p050', 'p051', 'p052', 'p061', 'p064', 'p066', 'p072', 'p075', 'p081']\n",
      "Test drivers:  ['p014', 'p015', 'p022', 'p041', 'p056']\n",
      "\n",
      "Train on 18041 samples, validate on 4383 samples\n",
      "Epoch 1/20\n",
      "18041/18041 [==============================] - 210s - loss: 0.4811 - val_loss: 0.2773\n",
      "Epoch 2/20\n",
      "18041/18041 [==============================] - 204s - loss: 0.3872 - val_loss: 0.2992\n",
      "Epoch 3/20\n",
      "18016/18041 [============================>.] - ETA: 0s - loss: 0.3255Epoch 00002: early stopping\n",
      "18041/18041 [==============================] - 198s - loss: 0.3256 - val_loss: 0.3086\n",
      "\n",
      "Prediction for the validation dataset\n",
      "4383/4383 [==============================] - 11s    \n",
      "\n",
      "Prediction for the test dataset\n",
      "79726/79726 [==============================] - 213s   \n",
      "\n",
      "Start KFold 3/5\n",
      "Train drivers:  ['p002', 'p012', 'p014', 'p015', 'p021', 'p022', 'p024', 'p026', 'p035', 'p039', 'p041', 'p047', 'p050', 'p052', 'p056', 'p061', 'p064', 'p066', 'p072', 'p075', 'p081']\n",
      "Test drivers:  ['p016', 'p042', 'p045', 'p049', 'p051']\n",
      "\n",
      "Train on 18100 samples, validate on 4324 samples\n",
      "Epoch 1/20\n",
      "18100/18100 [==============================] - 164s - loss: 0.4202 - val_loss: 0.1772\n",
      "Epoch 2/20\n",
      "18100/18100 [==============================] - 162s - loss: 0.3533 - val_loss: 0.1902\n",
      "Epoch 3/20\n",
      "18080/18100 [============================>.] - ETA: 0s - loss: 0.3129Epoch 00002: early stopping\n",
      "18100/18100 [==============================] - 163s - loss: 0.3128 - val_loss: 0.2401\n",
      "\n",
      "Prediction for the validation dataset\n",
      "4324/4324 [==============================] - 11s    \n",
      "\n",
      "Prediction for the test dataset\n",
      "79726/79726 [==============================] - 213s   \n",
      "\n",
      "Start KFold 4/5\n",
      "Train drivers:  ['p002', 'p012', 'p014', 'p015', 'p016', 'p021', 'p022', 'p024', 'p026', 'p035', 'p039', 'p041', 'p042', 'p045', 'p049', 'p051', 'p056', 'p061', 'p072', 'p075', 'p081']\n",
      "Test drivers:  ['p047', 'p050', 'p052', 'p064', 'p066']\n",
      "\n",
      "Train on 18205 samples, validate on 4219 samples\n",
      "Epoch 1/20\n",
      "18205/18205 [==============================] - 165s - loss: 0.3341 - val_loss: 0.3946\n",
      "Epoch 2/20\n",
      "18205/18205 [==============================] - 164s - loss: 0.2709 - val_loss: 0.4926\n",
      "Epoch 3/20\n",
      "18176/18205 [============================>.] - ETA: 0s - loss: 0.2480Epoch 00002: early stopping\n",
      "18205/18205 [==============================] - 163s - loss: 0.2481 - val_loss: 0.5190\n",
      "\n",
      "Prediction for the validation dataset\n",
      "4219/4219 [==============================] - 11s    \n",
      "\n",
      "Prediction for the test dataset\n",
      "79726/79726 [==============================] - 210s   \n",
      "\n",
      "Start KFold 5/5\n",
      "Train drivers:  ['p012', 'p014', 'p015', 'p016', 'p022', 'p024', 'p026', 'p039', 'p041', 'p042', 'p045', 'p047', 'p049', 'p050', 'p051', 'p052', 'p056', 'p061', 'p064', 'p066', 'p072']\n",
      "Test drivers:  ['p002', 'p021', 'p035', 'p075', 'p081']\n",
      "\n",
      "Train on 17977 samples, validate on 4447 samples\n",
      "Epoch 1/20\n",
      "17977/17977 [==============================] - 159s - loss: 0.3200 - val_loss: 0.2203\n",
      "Epoch 2/20\n",
      "17977/17977 [==============================] - 162s - loss: 0.2848 - val_loss: 0.1835\n",
      "Epoch 3/20\n",
      "17977/17977 [==============================] - 162s - loss: 0.2731 - val_loss: 0.2409\n",
      "Epoch 4/20\n",
      "17952/17977 [============================>.] - ETA: 0s - loss: 0.2415Epoch 00003: early stopping\n",
      "17977/17977 [==============================] - 160s - loss: 0.2414 - val_loss: 0.2871\n",
      "\n",
      "Prediction for the validation dataset\n",
      "4447/4447 [==============================] - 11s    \n",
      "\n",
      "Prediction for the test dataset\n",
      "79726/79726 [==============================] - 216s   \n",
      "\n"
     ]
    }
   ],
   "source": [
    "model_id = '160523_2_submit'\n",
    "\n",
    "nfolds = 5\n",
    "nb_epoch = 20\n",
    "batch_size = 32\n",
    "\n",
    "random_state = 51\n",
    "patience = 1\n",
    "b_predit_test = True\n",
    "\n",
    "np.random.seed(random_state)\n",
    "model = architectures.create_model(img_rows, img_cols, color_type)\n",
    "\n",
    "yfull_train = dict()\n",
    "yfull_test = []\n",
    "loss = []\n",
    "val_loss = []\n",
    "\n",
    "kf = KFold(len(unique_drivers), n_folds=nfolds, shuffle=True, random_state=random_state)\n",
    "\n",
    "for num_fold, (train_drivers, test_drivers) in enumerate(kf):\n",
    "\n",
    "    unique_list_train = [unique_drivers[i] for i in train_drivers]\n",
    "    unique_list_valid = [unique_drivers[i] for i in test_drivers]\n",
    "    X_train, Y_train, train_index = utils.copy_selected_drivers(train_data, train_target, driver_id, unique_list_train)\n",
    "    X_valid, Y_valid, test_index = utils.copy_selected_drivers(train_data, train_target, driver_id, unique_list_valid)\n",
    "\n",
    "    num_fold += 1\n",
    "    print('Start KFold {}/{}'.format(num_fold, nfolds))\n",
    "#     print('Train: {}, Validation: {} ({:.1%})'.format(len(X_train), len(X_valid), len(X_valid)/(len(X_valid)+len(X_train))))\n",
    "    print('Train drivers: ', unique_list_train)\n",
    "    print('Test drivers: ', unique_list_valid)\n",
    "    print()\n",
    "    \n",
    "    kfold_weights_path = os.path.join('..', 'data', 'cache', 'weights_kfold_' + str(model_id) + '_' + str(num_fold) + '.h5')\n",
    "\n",
    "    callbacks = [\n",
    "        EarlyStopping(monitor='val_loss', patience=patience, verbose=1),\n",
    "        ModelCheckpoint(kfold_weights_path, monitor='val_loss', save_best_only=True, verbose=0),\n",
    "        architectures.LossHistory(patience=patience)\n",
    "    ]\n",
    "    \n",
    "    model.fit(X_train, Y_train, batch_size=batch_size, nb_epoch=nb_epoch,\n",
    "          shuffle=True, verbose=1, validation_data=(X_valid, Y_valid),\n",
    "          callbacks=callbacks)\n",
    "    \n",
    "    loss.append(callbacks[2].loss)\n",
    "    val_loss.append(callbacks[2].val_loss)\n",
    "    \n",
    "    # load best model to make predictions\n",
    "    if os.path.isfile(kfold_weights_path):\n",
    "        model.load_weights(kfold_weights_path)\n",
    "        \n",
    "    # validation predictions. !! 2improve: validation set is scored twice !!\n",
    "    print('\\nPrediction for the validation dataset')\n",
    "    predictions_valid = model.predict(X_valid, batch_size=16*batch_size, verbose=1)\n",
    "    for i in range(len(test_index)): yfull_train[test_index[i]] = predictions_valid[i]\n",
    "        \n",
    "    # test predictions\n",
    "    if b_predit_test:\n",
    "        print('\\nPrediction for the test dataset') \n",
    "        yfull_test.append(model.predict(test_data, batch_size=16*batch_size, verbose=1))\n",
    "        print()\n",
    "\n",
    "predictions_valid = utils.get_validation_predictions(train_data, yfull_train)\n",
    "val_loss_total = log_loss(train_target, predictions_valid)"
   ]
  },
  {
   "cell_type": "markdown",
   "metadata": {},
   "source": [
    "# Results"
   ]
  },
  {
   "cell_type": "code",
   "execution_count": 4,
   "metadata": {
    "collapsed": false
   },
   "outputs": [
    {
     "name": "stdout",
     "output_type": "stream",
     "text": [
      "Train loss: 0.3745; Validation loss: 0.4891\n",
      "\n",
      "Model Summary\n",
      "____________________________________________________________________________________________________\n",
      "Layer (type)                       Output Shape        Param #     Connected to                     \n",
      "====================================================================================================\n",
      "convolution2d_1 (Convolution2D)    (None, 16, 32, 32)  448         convolution2d_input_1[0][0]      \n",
      "____________________________________________________________________________________________________\n",
      "convolution2d_2 (Convolution2D)    (None, 16, 32, 32)  2320        convolution2d_1[0][0]            \n",
      "____________________________________________________________________________________________________\n",
      "maxpooling2d_1 (MaxPooling2D)      (None, 16, 16, 16)  0           convolution2d_2[0][0]            \n",
      "____________________________________________________________________________________________________\n",
      "dropout_1 (Dropout)                (None, 16, 16, 16)  0           maxpooling2d_1[0][0]             \n",
      "____________________________________________________________________________________________________\n",
      "convolution2d_3 (Convolution2D)    (None, 32, 16, 16)  4640        dropout_1[0][0]                  \n",
      "____________________________________________________________________________________________________\n",
      "convolution2d_4 (Convolution2D)    (None, 32, 16, 16)  9248        convolution2d_3[0][0]            \n",
      "____________________________________________________________________________________________________\n",
      "maxpooling2d_2 (MaxPooling2D)      (None, 32, 8, 8)    0           convolution2d_4[0][0]            \n",
      "____________________________________________________________________________________________________\n",
      "dropout_2 (Dropout)                (None, 32, 8, 8)    0           maxpooling2d_2[0][0]             \n",
      "____________________________________________________________________________________________________\n",
      "convolution2d_5 (Convolution2D)    (None, 64, 8, 8)    18496       dropout_2[0][0]                  \n",
      "____________________________________________________________________________________________________\n",
      "convolution2d_6 (Convolution2D)    (None, 64, 8, 8)    36928       convolution2d_5[0][0]            \n",
      "____________________________________________________________________________________________________\n",
      "maxpooling2d_3 (MaxPooling2D)      (None, 64, 4, 4)    0           convolution2d_6[0][0]            \n",
      "____________________________________________________________________________________________________\n",
      "dropout_3 (Dropout)                (None, 64, 4, 4)    0           maxpooling2d_3[0][0]             \n",
      "____________________________________________________________________________________________________\n",
      "flatten_1 (Flatten)                (None, 1024)        0           dropout_3[0][0]                  \n",
      "____________________________________________________________________________________________________\n",
      "dense_1 (Dense)                    (None, 10)          10250       flatten_1[0][0]                  \n",
      "____________________________________________________________________________________________________\n",
      "activation_1 (Activation)          (None, 10)          0           dense_1[0][0]                    \n",
      "====================================================================================================\n",
      "Total params: 82330\n",
      "____________________________________________________________________________________________________\n"
     ]
    }
   ],
   "source": [
    "print('Train loss: {:.4f}; Validation loss: {:.4f}'.format(np.mean(loss), val_loss_total))\n",
    "print()\n",
    "print('Model Summary')\n",
    "model.summary()"
   ]
  },
  {
   "cell_type": "markdown",
   "metadata": {},
   "source": [
    "# Scoring and submission"
   ]
  },
  {
   "cell_type": "code",
   "execution_count": 5,
   "metadata": {
    "collapsed": false
   },
   "outputs": [
    {
     "name": "stdout",
     "output_type": "stream",
     "text": [
      "id_160523_2_submit_loss_0.4891_r_32_c_32_folds_5\n"
     ]
    }
   ],
   "source": [
    "info_string = 'id_' + str(model_id)\\\n",
    "                + '_loss_' + str(round(val_loss_total, 4)) \\\n",
    "                + '_r_' + str(img_rows) \\\n",
    "                + '_c_' + str(img_cols) \\\n",
    "                + '_folds_' + str(nfolds)\n",
    "print(info_string)\n",
    "\n",
    "utils.save_useful_data(predictions_valid, train_id, model, info_string)\n",
    "\n",
    "if b_predit_test:\n",
    "    test_res = utils.merge_several_folds_mean(yfull_test)\n",
    "    utils.create_submission(test_res, test_id, info_string)"
   ]
  },
  {
   "cell_type": "markdown",
   "metadata": {},
   "source": [
    "# Model Evaluation"
   ]
  },
  {
   "cell_type": "code",
   "execution_count": 12,
   "metadata": {
    "collapsed": false
   },
   "outputs": [
    {
     "data": {
      "text/plain": [
       "<matplotlib.lines.Line2D at 0x7f9184195f60>"
      ]
     },
     "execution_count": 12,
     "metadata": {},
     "output_type": "execute_result"
    },
    {
     "data": {
      "image/png": "[encoded data removed]",
      "text/plain": [
       "<matplotlib.figure.Figure at 0x7f9190aedb70>"
      ]
     },
     "metadata": {},
     "output_type": "display_data"
    }
   ],
   "source": [
    "res_class = pd.DataFrame()\n",
    "\n",
    "for i in range(10):\n",
    "    mask = train_target[:, i] == 1\n",
    "    i_dict = 'c' + str(i)\n",
    "    i_dict = i_dict + ': ' + dict_classes[i_dict]\n",
    "    \n",
    "    res_class.loc[i_dict, 'LogLoss'] = log_loss(train_target[mask, :], np.array(predictions_valid)[mask, :])\n",
    "    res_class.loc[i_dict, 'Accuracy'] = accuracy_score(train_target[mask, :].argmax(axis=1), np.array(predictions_valid)[mask, :].argmax(axis=1))\n",
    "    \n",
    "accuracy_val_avg = accuracy_score(train_target.argmax(axis=1), np.array(predictions_valid).argmax(axis=1))\n",
    "\n",
    "plt.figure();\n",
    "res_class['Accuracy'].plot(kind='bar', title='Accuracy per target class')\n",
    "plt.axhline(y=accuracy_val_avg, color='r', label='model')\n",
    "plt.axhline(y=0.1, color = 'b', label='random', linestyle='dotted')"
   ]
  },
  {
   "cell_type": "code",
   "execution_count": 13,
   "metadata": {
    "collapsed": false
   },
   "outputs": [
    {
     "data": {
      "text/plain": [
       "<matplotlib.lines.Line2D at 0x7f9184134400>"
      ]
     },
     "execution_count": 13,
     "metadata": {},
     "output_type": "execute_result"
    },
    {
     "data": {
      "image/png": "[encoded data removed]",
      "text/plain": [
       "<matplotlib.figure.Figure at 0x7f91843312e8>"
      ]
     },
     "metadata": {},
     "output_type": "display_data"
    }
   ],
   "source": [
    "res_driver = pd.DataFrame()\n",
    "\n",
    "for i in unique_drivers:\n",
    "    mask = np.array(driver_id) == i\n",
    "   \n",
    "    res_driver.loc[i, 'LogLoss'] = log_loss(train_target[mask, :], np.array(predictions_valid)[mask, :])\n",
    "    res_driver.loc[i, 'Accuracy'] = accuracy_score(train_target[mask, :].argmax(axis=1), np.array(predictions_valid)[mask, :].argmax(axis=1))\n",
    "    \n",
    "accuracy_val_avg = accuracy_score(train_target.argmax(axis=1), np.array(predictions_valid).argmax(axis=1))\n",
    "\n",
    "plt.figure();\n",
    "res_driver['Accuracy'].plot(kind='bar', title='Accuracy per Driver')\n",
    "plt.axhline(y=accuracy_val_avg, color='r', label='model')\n",
    "plt.axhline(y=0.1, color = 'b', label='random', linestyle='dotted')"
   ]
  },
  {
   "cell_type": "code",
   "execution_count": 47,
   "metadata": {
    "collapsed": false
   },
   "outputs": [
    {
     "name": "stdout",
     "output_type": "stream",
     "text": [
      "Normalized confusion matrix\n"
     ]
    },
    {
     "data": {
      "image/png": "[encoded data removed]",
      "text/plain": [
       "<matplotlib.figure.Figure at 0x7f42ab255c50>"
      ]
     },
     "metadata": {},
     "output_type": "display_data"
    }
   ],
   "source": [
    "import matplotlib.pyplot as plt\n",
    "from sklearn.metrics import confusion_matrix\n",
    "\n",
    "def plot_confusion_matrix(cm, title='Confusion matrix', cmap=plt.cm.Blues):\n",
    "    plt.imshow(cm, interpolation='nearest', cmap=cmap, vmax=0.2)\n",
    "    plt.title(title)\n",
    "    plt.colorbar()\n",
    "    tick_marks = np.arange(cm.shape[0])\n",
    "    plt.xticks(tick_marks)\n",
    "    plt.yticks(tick_marks)\n",
    "    plt.tight_layout()\n",
    "    plt.ylabel('True label')\n",
    "    plt.xlabel('Predicted label')\n",
    "\n",
    "\n",
    "# Compute confusion matrix\n",
    "# cm = confusion_matrix(train_target.argmax(axis=1), np.array(predictions_valid).argmax(axis=1))\n",
    "# np.set_printoptions(precision=2)\n",
    "# print('Confusion matrix, without normalization')\n",
    "# print(cm)\n",
    "# plt.figure()\n",
    "# plot_confusion_matrix(cm)\n",
    "\n",
    "# Normalize the confusion matrix by row (i.e by the number of samples\n",
    "# in each class)\n",
    "cm_normalized = cm.astype('float') / cm.sum(axis=1)[:, np.newaxis]\n",
    "# print('Normalized confusion matrix')\n",
    "# print(cm_normalized)\n",
    "plt.figure()\n",
    "plot_confusion_matrix(cm_normalized, title='Normalized confusion matrix')\n",
    "\n",
    "plt.show()"
   ]
  },
  {
   "cell_type": "code",
   "execution_count": 8,
   "metadata": {
    "collapsed": false
   },
   "outputs": [
    {
     "name": "stdout",
     "output_type": "stream",
     "text": [
      "Difficult Drivers\n",
      "\n",
      "Driver p012\n"
     ]
    },
    {
     "data": {
      "text/html": [
       "<img style='width: 180px; margin: 0px; float: left; border: 1px solid black;' src='../data/train/c4/img_75274.jpg' /><img style='width: 180px; margin: 0px; float: left; border: 1px solid black;' src='../data/train/c7/img_35322.jpg' /><img style='width: 180px; margin: 0px; float: left; border: 1px solid black;' src='../data/train/c1/img_17460.jpg' /><img style='width: 180px; margin: 0px; float: left; border: 1px solid black;' src='../data/train/c8/img_52475.jpg' /><img style='width: 180px; margin: 0px; float: left; border: 1px solid black;' src='../data/train/c5/img_75976.jpg' />"
      ],
      "text/plain": [
       "<IPython.core.display.HTML object>"
      ]
     },
     "metadata": {},
     "output_type": "display_data"
    },
    {
     "name": "stdout",
     "output_type": "stream",
     "text": [
      "\n",
      "Driver p024\n"
     ]
    },
    {
     "data": {
      "text/html": [
       "<img style='width: 180px; margin: 0px; float: left; border: 1px solid black;' src='../data/train/c4/img_11690.jpg' /><img style='width: 180px; margin: 0px; float: left; border: 1px solid black;' src='../data/train/c0/img_18837.jpg' /><img style='width: 180px; margin: 0px; float: left; border: 1px solid black;' src='../data/train/c6/img_56791.jpg' /><img style='width: 180px; margin: 0px; float: left; border: 1px solid black;' src='../data/train/c2/img_87136.jpg' /><img style='width: 180px; margin: 0px; float: left; border: 1px solid black;' src='../data/train/c3/img_32418.jpg' />"
      ],
      "text/plain": [
       "<IPython.core.display.HTML object>"
      ]
     },
     "metadata": {},
     "output_type": "display_data"
    },
    {
     "name": "stdout",
     "output_type": "stream",
     "text": [
      "\n",
      "Driver p072\n"
     ]
    },
    {
     "data": {
      "text/html": [
       "<img style='width: 180px; margin: 0px; float: left; border: 1px solid black;' src='../data/train/c4/img_97443.jpg' /><img style='width: 180px; margin: 0px; float: left; border: 1px solid black;' src='../data/train/c0/img_1053.jpg' /><img style='width: 180px; margin: 0px; float: left; border: 1px solid black;' src='../data/train/c1/img_19057.jpg' /><img style='width: 180px; margin: 0px; float: left; border: 1px solid black;' src='../data/train/c6/img_36348.jpg' /><img style='width: 180px; margin: 0px; float: left; border: 1px solid black;' src='../data/train/c9/img_45771.jpg' />"
      ],
      "text/plain": [
       "<IPython.core.display.HTML object>"
      ]
     },
     "metadata": {},
     "output_type": "display_data"
    },
    {
     "name": "stdout",
     "output_type": "stream",
     "text": [
      "\n",
      "Easy Drivers\n",
      "\n",
      "Driver p035\n"
     ]
    },
    {
     "data": {
      "text/html": [
       "<img style='width: 180px; margin: 0px; float: left; border: 1px solid black;' src='../data/train/c8/img_91366.jpg' /><img style='width: 180px; margin: 0px; float: left; border: 1px solid black;' src='../data/train/c5/img_41501.jpg' /><img style='width: 180px; margin: 0px; float: left; border: 1px solid black;' src='../data/train/c7/img_947.jpg' /><img style='width: 180px; margin: 0px; float: left; border: 1px solid black;' src='../data/train/c3/img_31608.jpg' /><img style='width: 180px; margin: 0px; float: left; border: 1px solid black;' src='../data/train/c9/img_36468.jpg' />"
      ],
      "text/plain": [
       "<IPython.core.display.HTML object>"
      ]
     },
     "metadata": {},
     "output_type": "display_data"
    },
    {
     "name": "stdout",
     "output_type": "stream",
     "text": [
      "\n",
      "Driver p022\n"
     ]
    },
    {
     "data": {
      "text/html": [
       "<img style='width: 180px; margin: 0px; float: left; border: 1px solid black;' src='../data/train/c4/img_97956.jpg' /><img style='width: 180px; margin: 0px; float: left; border: 1px solid black;' src='../data/train/c5/img_47711.jpg' /><img style='width: 180px; margin: 0px; float: left; border: 1px solid black;' src='../data/train/c6/img_48493.jpg' /><img style='width: 180px; margin: 0px; float: left; border: 1px solid black;' src='../data/train/c4/img_37173.jpg' /><img style='width: 180px; margin: 0px; float: left; border: 1px solid black;' src='../data/train/c1/img_91550.jpg' />"
      ],
      "text/plain": [
       "<IPython.core.display.HTML object>"
      ]
     },
     "metadata": {},
     "output_type": "display_data"
    },
    {
     "name": "stdout",
     "output_type": "stream",
     "text": [
      "\n",
      "Driver p016\n"
     ]
    },
    {
     "data": {
      "text/html": [
       "<img style='width: 180px; margin: 0px; float: left; border: 1px solid black;' src='../data/train/c0/img_57898.jpg' /><img style='width: 180px; margin: 0px; float: left; border: 1px solid black;' src='../data/train/c3/img_99480.jpg' /><img style='width: 180px; margin: 0px; float: left; border: 1px solid black;' src='../data/train/c0/img_92936.jpg' /><img style='width: 180px; margin: 0px; float: left; border: 1px solid black;' src='../data/train/c4/img_28277.jpg' /><img style='width: 180px; margin: 0px; float: left; border: 1px solid black;' src='../data/train/c7/img_82964.jpg' />"
      ],
      "text/plain": [
       "<IPython.core.display.HTML object>"
      ]
     },
     "metadata": {},
     "output_type": "display_data"
    }
   ],
   "source": [
    "images = pd.DataFrame(data={\n",
    "        'class': train_target.argmax(axis=1), \n",
    "        'id': train_id, \n",
    "        'driver': driver_id\n",
    "        })\n",
    "\n",
    "print('Difficult Drivers')\n",
    "\n",
    "for i_driver in res_driver.sort_values(by='LogLoss', ascending=False).head(3).index.tolist():\n",
    "    sample = images[images['driver']==i_driver].sample(5)\n",
    "    sample['path'] = sample.apply(lambda x: os.path.join('..', 'data', 'train', 'c' + str(x['class']), x['id']), axis = 1)\n",
    "    imagesList=''.join( [\"<img style='width: 180px; margin: 0px; float: left; border: 1px solid black;' src='%s' />\" % s\n",
    "                          for s in sample['path']\n",
    "                         ])\n",
    "    print('\\nDriver {}'.format(i_driver))\n",
    "    display(HTML(imagesList))\n",
    "    \n",
    "print('\\nEasy Drivers')\n",
    "\n",
    "for i_driver in res_driver.sort_values(by='LogLoss', ascending=True).head(3).index.tolist():\n",
    "    sample = images[images['driver']==i_driver].sample(5)\n",
    "    sample['path'] = sample.apply(lambda x: os.path.join('..', 'data', 'train', 'c' + str(x['class']), x['id']), axis = 1)\n",
    "    imagesList=''.join( [\"<img style='width: 180px; margin: 0px; float: left; border: 1px solid black;' src='%s' />\" % s\n",
    "                          for s in sample['path']\n",
    "                         ])\n",
    "    print('\\nDriver {}'.format(i_driver))\n",
    "    display(HTML(imagesList))"
   ]
  },
  {
   "cell_type": "code",
   "execution_count": null,
   "metadata": {
    "collapsed": true
   },
   "outputs": [],
   "source": []
  }
 ],
 "metadata": {
  "kernelspec": {
   "display_name": "Python 3",
   "language": "python",
   "name": "python3"
  },
  "language_info": {
   "codemirror_mode": {
    "name": "ipython",
    "version": 3
   },
   "file_extension": ".py",
   "mimetype": "text/x-python",
   "name": "python",
   "nbconvert_exporter": "python",
   "pygments_lexer": "ipython3",
   "version": "3.4.4"
  }
 },
 "nbformat": 4,
 "nbformat_minor": 0
}
