{
 "cells": [
  {
   "cell_type": "code",
   "execution_count": 1,
   "metadata": {
    "collapsed": false
   },
   "outputs": [],
   "source": [
    "import os\n",
    "import pandas as pd\n",
    "import numpy as np\n",
    "from IPython.display import Image, HTML, display\n",
    "\n",
    "%matplotlib inline\n",
    "import matplotlib\n",
    "import matplotlib.pyplot as plt\n",
    "matplotlib.style.use('ggplot')\n",
    "\n",
    "dict_classes = {'c0': 'safe driving',\n",
    "            'c1': 'texting - right',\n",
    "            'c2': 'talking on the phone - right',\n",
    "            'c3': 'texting - left',\n",
    "            'c4': 'talking on the phone - left',\n",
    "            'c5': 'operating the radio',\n",
    "            'c6': 'drinking',\n",
    "            'c7': 'reaching behind',\n",
    "            'c8': 'hair and makeup',\n",
    "            'c9': 'talking to passenger'}"
   ]
  },
  {
   "cell_type": "markdown",
   "metadata": {},
   "source": [
    "# Reading data"
   ]
  },
  {
   "cell_type": "code",
   "execution_count": 2,
   "metadata": {
    "collapsed": false
   },
   "outputs": [
    {
     "name": "stdout",
     "output_type": "stream",
     "text": [
      "Sample submission dataset (test images)\n",
      "(79726, 10)\n",
      "                 c0   c1   c2   c3   c4   c5   c6   c7   c8   c9\n",
      "img                                                             \n",
      "img_1.jpg       0.1  0.1  0.1  0.1  0.1  0.1  0.1  0.1  0.1  0.1\n",
      "img_10.jpg      0.1  0.1  0.1  0.1  0.1  0.1  0.1  0.1  0.1  0.1\n",
      "img_100.jpg     0.1  0.1  0.1  0.1  0.1  0.1  0.1  0.1  0.1  0.1\n",
      "img_1000.jpg    0.1  0.1  0.1  0.1  0.1  0.1  0.1  0.1  0.1  0.1\n",
      "img_100000.jpg  0.1  0.1  0.1  0.1  0.1  0.1  0.1  0.1  0.1  0.1\n",
      "\n",
      "Train dataset\n",
      "(22424, 2)\n",
      "              subject classname\n",
      "img                            \n",
      "img_44733.jpg    p002        c0\n",
      "img_72999.jpg    p002        c0\n",
      "img_25094.jpg    p002        c0\n",
      "img_69092.jpg    p002        c0\n",
      "img_92629.jpg    p002        c0\n"
     ]
    }
   ],
   "source": [
    "submission = pd.read_csv(os.path.join('..', 'data', 'sample_submission.csv'), index_col='img')\n",
    "driver_imgs_list = pd.read_csv(os.path.join('..', 'data', 'driver_imgs_list.csv'), index_col='img')\n",
    "\n",
    "print('Sample submission dataset (test images)')\n",
    "print(submission.shape)\n",
    "print(submission.head())\n",
    "\n",
    "\n",
    "print()\n",
    "print('Train dataset')\n",
    "print(driver_imgs_list.shape)\n",
    "print(driver_imgs_list.head())"
   ]
  },
  {
   "cell_type": "markdown",
   "metadata": {},
   "source": [
    "# Check that all files are present"
   ]
  },
  {
   "cell_type": "code",
   "execution_count": 13,
   "metadata": {
    "collapsed": false
   },
   "outputs": [
    {
     "name": "stdout",
     "output_type": "stream",
     "text": [
      "There are 0/22424 images not found in the train folder.\n",
      "There are 0/79726 images not found in the test folder.\n"
     ]
    }
   ],
   "source": [
    "import os.path\n",
    "\n",
    "files_not_found = [i for (i, c) in driver_imgs_list['classname'].iteritems() if not os.path.isfile(os.path.join('..', 'data', 'train', c, i))]\n",
    "print('There are {}/{} images not found in the train folder.'.format(len(files_not_found), driver_imgs_list.shape[0]))\n",
    "\n",
    "files_not_found = [i for i in submission.index if not os.path.isfile(os.path.join('..', 'data', 'test', i))]\n",
    "print('There are {}/{} images not found in the test folder.'.format(len(files_not_found), submission.shape[0]))"
   ]
  },
  {
   "cell_type": "markdown",
   "metadata": {},
   "source": [
    "# Distributions"
   ]
  },
  {
   "cell_type": "code",
   "execution_count": 17,
   "metadata": {
    "collapsed": false
   },
   "outputs": [
    {
     "data": {
      "text/plain": [
       "<matplotlib.axes._subplots.AxesSubplot at 0x7f8d47dfea58>"
      ]
     },
     "execution_count": 17,
     "metadata": {},
     "output_type": "execute_result"
    },
    {
     "data": {
      "image/png": "[encoded data removed]",
      "text/plain": [
       "<matplotlib.figure.Figure at 0x7f8d47dfe208>"
      ]
     },
     "metadata": {},
     "output_type": "display_data"
    }
   ],
   "source": [
    "driver_imgs_list['classname'].value_counts().sort_index().plot(kind='bar', title='Distribution by target class')"
   ]
  },
  {
   "cell_type": "markdown",
   "metadata": {},
   "source": [
    "Classes are well-balanced."
   ]
  },
  {
   "cell_type": "code",
   "execution_count": 23,
   "metadata": {
    "collapsed": false
   },
   "outputs": [
    {
     "data": {
      "text/plain": [
       "<matplotlib.axes._subplots.AxesSubplot at 0x1f5d965b080>"
      ]
     },
     "execution_count": 23,
     "metadata": {},
     "output_type": "execute_result"
    },
    {
     "data": {
      "image/png": "[encoded data removed]",
      "text/plain": [
       "<matplotlib.figure.Figure at 0x1f5d95ee400>"
      ]
     },
     "metadata": {},
     "output_type": "display_data"
    }
   ],
   "source": [
    "driver_imgs_list['subject'].value_counts().sort_index().plot(kind='bar', title='Distribution by drivers')"
   ]
  },
  {
   "cell_type": "markdown",
   "metadata": {},
   "source": [
    "2DO list:\n",
    "    - should P072 driver be excluded from training set?\n",
    "    - undersampling: training set of ~10/~100 random images stratified by driver*class"
   ]
  },
  {
   "cell_type": "code",
   "execution_count": 4,
   "metadata": {
    "collapsed": false
   },
   "outputs": [
    {
     "data": {
      "text/plain": [
       "<matplotlib.axes._subplots.AxesSubplot at 0x7f1e6e479710>"
      ]
     },
     "execution_count": 4,
     "metadata": {},
     "output_type": "execute_result"
    },
    {
     "data": {
      "image/png": "[encoded data removed]",
      "text/plain": [
       "<matplotlib.figure.Figure at 0x7f1e6e464b70>"
      ]
     },
     "metadata": {},
     "output_type": "display_data"
    }
   ],
   "source": [
    "driver_imgs_list.pivot_table(index='subject', columns='classname', aggfunc=np.size).sort_index().plot(kind='bar', title='Distribution by drivers*target classes', stacked=True, legend=False)"
   ]
  },
  {
   "cell_type": "markdown",
   "metadata": {},
   "source": [
    "Classes are well-balanced per driver."
   ]
  },
  {
   "cell_type": "markdown",
   "metadata": {},
   "source": [
    "# Visually checking images"
   ]
  },
  {
   "cell_type": "code",
   "execution_count": 18,
   "metadata": {
    "collapsed": false
   },
   "outputs": [
    {
     "name": "stdout",
     "output_type": "stream",
     "text": [
      "Class c0 : safe driving, random driver p050\n"
     ]
    },
    {
     "data": {
      "text/html": [
       "<img style='width: 180px; margin: 0px; float: left; border: 1px solid black;' src='../data/train/c0/img_5218.jpg' /><img style='width: 180px; margin: 0px; float: left; border: 1px solid black;' src='../data/train/c0/img_68359.jpg' /><img style='width: 180px; margin: 0px; float: left; border: 1px solid black;' src='../data/train/c0/img_981.jpg' /><img style='width: 180px; margin: 0px; float: left; border: 1px solid black;' src='../data/train/c0/img_52372.jpg' /><img style='width: 180px; margin: 0px; float: left; border: 1px solid black;' src='../data/train/c0/img_71740.jpg' />"
      ],
      "text/plain": [
       "<IPython.core.display.HTML object>"
      ]
     },
     "metadata": {},
     "output_type": "display_data"
    },
    {
     "name": "stdout",
     "output_type": "stream",
     "text": [
      "Class c1 : texting - right, random driver p075\n"
     ]
    },
    {
     "data": {
      "text/html": [
       "<img style='width: 180px; margin: 0px; float: left; border: 1px solid black;' src='../data/train/c1/img_23212.jpg' /><img style='width: 180px; margin: 0px; float: left; border: 1px solid black;' src='../data/train/c1/img_29447.jpg' /><img style='width: 180px; margin: 0px; float: left; border: 1px solid black;' src='../data/train/c1/img_42241.jpg' /><img style='width: 180px; margin: 0px; float: left; border: 1px solid black;' src='../data/train/c1/img_38741.jpg' /><img style='width: 180px; margin: 0px; float: left; border: 1px solid black;' src='../data/train/c1/img_55951.jpg' />"
      ],
      "text/plain": [
       "<IPython.core.display.HTML object>"
      ]
     },
     "metadata": {},
     "output_type": "display_data"
    },
    {
     "name": "stdout",
     "output_type": "stream",
     "text": [
      "Class c2 : talking on the phone - right, random driver p075\n"
     ]
    },
    {
     "data": {
      "text/html": [
       "<img style='width: 180px; margin: 0px; float: left; border: 1px solid black;' src='../data/train/c2/img_70274.jpg' /><img style='width: 180px; margin: 0px; float: left; border: 1px solid black;' src='../data/train/c2/img_31572.jpg' /><img style='width: 180px; margin: 0px; float: left; border: 1px solid black;' src='../data/train/c2/img_13241.jpg' /><img style='width: 180px; margin: 0px; float: left; border: 1px solid black;' src='../data/train/c2/img_16322.jpg' /><img style='width: 180px; margin: 0px; float: left; border: 1px solid black;' src='../data/train/c2/img_8138.jpg' />"
      ],
      "text/plain": [
       "<IPython.core.display.HTML object>"
      ]
     },
     "metadata": {},
     "output_type": "display_data"
    },
    {
     "name": "stdout",
     "output_type": "stream",
     "text": [
      "Class c3 : texting - left, random driver p024\n"
     ]
    },
    {
     "data": {
      "text/html": [
       "<img style='width: 180px; margin: 0px; float: left; border: 1px solid black;' src='../data/train/c3/img_44670.jpg' /><img style='width: 180px; margin: 0px; float: left; border: 1px solid black;' src='../data/train/c3/img_95579.jpg' /><img style='width: 180px; margin: 0px; float: left; border: 1px solid black;' src='../data/train/c3/img_12298.jpg' /><img style='width: 180px; margin: 0px; float: left; border: 1px solid black;' src='../data/train/c3/img_57205.jpg' /><img style='width: 180px; margin: 0px; float: left; border: 1px solid black;' src='../data/train/c3/img_70456.jpg' />"
      ],
      "text/plain": [
       "<IPython.core.display.HTML object>"
      ]
     },
     "metadata": {},
     "output_type": "display_data"
    },
    {
     "name": "stdout",
     "output_type": "stream",
     "text": [
      "Class c4 : talking on the phone - left, random driver p022\n"
     ]
    },
    {
     "data": {
      "text/html": [
       "<img style='width: 180px; margin: 0px; float: left; border: 1px solid black;' src='../data/train/c4/img_40185.jpg' /><img style='width: 180px; margin: 0px; float: left; border: 1px solid black;' src='../data/train/c4/img_41243.jpg' /><img style='width: 180px; margin: 0px; float: left; border: 1px solid black;' src='../data/train/c4/img_89569.jpg' /><img style='width: 180px; margin: 0px; float: left; border: 1px solid black;' src='../data/train/c4/img_8691.jpg' /><img style='width: 180px; margin: 0px; float: left; border: 1px solid black;' src='../data/train/c4/img_61024.jpg' />"
      ],
      "text/plain": [
       "<IPython.core.display.HTML object>"
      ]
     },
     "metadata": {},
     "output_type": "display_data"
    },
    {
     "name": "stdout",
     "output_type": "stream",
     "text": [
      "Class c5 : operating the radio, random driver p012\n"
     ]
    },
    {
     "data": {
      "text/html": [
       "<img style='width: 180px; margin: 0px; float: left; border: 1px solid black;' src='../data/train/c5/img_659.jpg' /><img style='width: 180px; margin: 0px; float: left; border: 1px solid black;' src='../data/train/c5/img_81638.jpg' /><img style='width: 180px; margin: 0px; float: left; border: 1px solid black;' src='../data/train/c5/img_66960.jpg' /><img style='width: 180px; margin: 0px; float: left; border: 1px solid black;' src='../data/train/c5/img_76622.jpg' /><img style='width: 180px; margin: 0px; float: left; border: 1px solid black;' src='../data/train/c5/img_16280.jpg' />"
      ],
      "text/plain": [
       "<IPython.core.display.HTML object>"
      ]
     },
     "metadata": {},
     "output_type": "display_data"
    },
    {
     "name": "stdout",
     "output_type": "stream",
     "text": [
      "Class c6 : drinking, random driver p072\n"
     ]
    },
    {
     "data": {
      "text/html": [
       "<img style='width: 180px; margin: 0px; float: left; border: 1px solid black;' src='../data/train/c6/img_70925.jpg' /><img style='width: 180px; margin: 0px; float: left; border: 1px solid black;' src='../data/train/c6/img_69928.jpg' /><img style='width: 180px; margin: 0px; float: left; border: 1px solid black;' src='../data/train/c6/img_69271.jpg' /><img style='width: 180px; margin: 0px; float: left; border: 1px solid black;' src='../data/train/c6/img_5783.jpg' /><img style='width: 180px; margin: 0px; float: left; border: 1px solid black;' src='../data/train/c6/img_36348.jpg' />"
      ],
      "text/plain": [
       "<IPython.core.display.HTML object>"
      ]
     },
     "metadata": {},
     "output_type": "display_data"
    },
    {
     "name": "stdout",
     "output_type": "stream",
     "text": [
      "Class c7 : reaching behind, random driver p035\n"
     ]
    },
    {
     "data": {
      "text/html": [
       "<img style='width: 180px; margin: 0px; float: left; border: 1px solid black;' src='../data/train/c7/img_29555.jpg' /><img style='width: 180px; margin: 0px; float: left; border: 1px solid black;' src='../data/train/c7/img_55641.jpg' /><img style='width: 180px; margin: 0px; float: left; border: 1px solid black;' src='../data/train/c7/img_5096.jpg' /><img style='width: 180px; margin: 0px; float: left; border: 1px solid black;' src='../data/train/c7/img_61150.jpg' /><img style='width: 180px; margin: 0px; float: left; border: 1px solid black;' src='../data/train/c7/img_77968.jpg' />"
      ],
      "text/plain": [
       "<IPython.core.display.HTML object>"
      ]
     },
     "metadata": {},
     "output_type": "display_data"
    },
    {
     "name": "stdout",
     "output_type": "stream",
     "text": [
      "Class c8 : hair and makeup, random driver p042\n"
     ]
    },
    {
     "data": {
      "text/html": [
       "<img style='width: 180px; margin: 0px; float: left; border: 1px solid black;' src='../data/train/c8/img_99812.jpg' /><img style='width: 180px; margin: 0px; float: left; border: 1px solid black;' src='../data/train/c8/img_26801.jpg' /><img style='width: 180px; margin: 0px; float: left; border: 1px solid black;' src='../data/train/c8/img_37043.jpg' /><img style='width: 180px; margin: 0px; float: left; border: 1px solid black;' src='../data/train/c8/img_50033.jpg' /><img style='width: 180px; margin: 0px; float: left; border: 1px solid black;' src='../data/train/c8/img_82536.jpg' />"
      ],
      "text/plain": [
       "<IPython.core.display.HTML object>"
      ]
     },
     "metadata": {},
     "output_type": "display_data"
    },
    {
     "name": "stdout",
     "output_type": "stream",
     "text": [
      "Class c9 : talking to passenger, random driver p042\n"
     ]
    },
    {
     "data": {
      "text/html": [
       "<img style='width: 180px; margin: 0px; float: left; border: 1px solid black;' src='../data/train/c9/img_75562.jpg' /><img style='width: 180px; margin: 0px; float: left; border: 1px solid black;' src='../data/train/c9/img_22327.jpg' /><img style='width: 180px; margin: 0px; float: left; border: 1px solid black;' src='../data/train/c9/img_31845.jpg' /><img style='width: 180px; margin: 0px; float: left; border: 1px solid black;' src='../data/train/c9/img_13902.jpg' /><img style='width: 180px; margin: 0px; float: left; border: 1px solid black;' src='../data/train/c9/img_15429.jpg' />"
      ],
      "text/plain": [
       "<IPython.core.display.HTML object>"
      ]
     },
     "metadata": {},
     "output_type": "display_data"
    }
   ],
   "source": [
    "for i in range(10):\n",
    "    i_class = 'c' + str(i)\n",
    "    i_driver = driver_imgs_list['subject'].sample(1)[0]\n",
    "    sample = [os.path.join('..', 'data', 'train', i_class, s) for s in driver_imgs_list[(driver_imgs_list['subject']==i_driver) & (driver_imgs_list['classname']==i_class)].sample(5).index.tolist()]\n",
    "    imagesList=''.join( [\"<img style='width: 180px; margin: 0px; float: left; border: 1px solid black;' src='%s' />\" % s\n",
    "                          for s in sample\n",
    "                         ])\n",
    "    print('Class {} : {}, random driver {}'.format(i_class, dict_classes[i_class], i_driver))\n",
    "    display(HTML(imagesList))"
   ]
  },
  {
   "cell_type": "markdown",
   "metadata": {},
   "source": [
    "# Checking image resolution"
   ]
  },
  {
   "cell_type": "code",
   "execution_count": 21,
   "metadata": {
    "collapsed": false
   },
   "outputs": [
    {
     "name": "stdout",
     "output_type": "stream",
     "text": [
      "(640, 480)    102150\n",
      "Name: size, dtype: int64\n"
     ]
    }
   ],
   "source": [
    "from PIL import Image\n",
    "\n",
    "images = pd.DataFrame(columns = ['size'])\n",
    "\n",
    "# very slow, consider refactoring pls\n",
    "for (i, c) in driver_imgs_list['classname'].iteritems():\n",
    "    images.loc[i, 'size'] = Image.open('/'.join(['data/train', c, i])).size\n",
    "\n",
    "for i in submission.index:\n",
    "    images.loc[i, 'size'] = Image.open('data/test/' + i).size\n",
    "\n",
    "print(images['size'].value_counts())"
   ]
  },
  {
   "cell_type": "markdown",
   "metadata": {},
   "source": [
    "All images are RGB .jpg with 640*480 resolution. Consider resizing images to ~100x100 and converting to grayscale."
   ]
  }
 ],
 "metadata": {
  "kernelspec": {
   "display_name": "Python 3",
   "language": "python",
   "name": "python3"
  },
  "language_info": {
   "codemirror_mode": {
    "name": "ipython",
    "version": 3
   },
   "file_extension": ".py",
   "mimetype": "text/x-python",
   "name": "python",
   "nbconvert_exporter": "python",
   "pygments_lexer": "ipython3",
   "version": "3.4.4"
  }
 },
 "nbformat": 4,
 "nbformat_minor": 0
}
